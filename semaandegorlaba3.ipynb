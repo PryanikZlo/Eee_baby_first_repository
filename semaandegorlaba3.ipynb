{
  "nbformat": 4,
  "nbformat_minor": 0,
  "metadata": {
    "colab": {
      "name": "semaandegor.ipynb",
      "provenance": [],
      "collapsed_sections": [],
      "include_colab_link": true
    },
    "kernelspec": {
      "name": "python3",
      "display_name": "Python 3"
    }
  },
  "cells": [
    {
      "cell_type": "markdown",
      "metadata": {
        "id": "view-in-github",
        "colab_type": "text"
      },
      "source": [
        "<a href=\"https://colab.research.google.com/github/PryanikZlo/Eee_baby_first_repository/blob/master/semaandegorlaba3.ipynb\" target=\"_parent\"><img src=\"https://colab.research.google.com/assets/colab-badge.svg\" alt=\"Open In Colab\"/></a>"
      ]
    },
    {
      "cell_type": "code",
      "metadata": {
        "id": "EEG5tGFkdpHH",
        "colab_type": "code",
        "colab": {}
      },
      "source": [
        "import pandas as pd\n",
        "import numpy as np\n",
        "import matplotlib.pyplot as plt\n",
        "from bokeh.plotting import figure, output_file, show\n",
        "from bokeh.io import output_notebook"
      ],
      "execution_count": 0,
      "outputs": []
    },
    {
      "cell_type": "code",
      "metadata": {
        "id": "Ur9NGHyPeXDQ",
        "colab_type": "code",
        "outputId": "f7b0ea7d-8832-4c73-96f4-e45c95d5b7a8",
        "colab": {
          "base_uri": "https://localhost:8080/",
          "height": 420
        }
      },
      "source": [
        "url = \"https://ru.wikipedia.org/wiki/%D0%A1%D0%BF%D0%B8%D1%81%D0%BE%D0%BA_%D1%82%D0%B5%D0%BF%D0%BB%D0%BE%D0%B2%D1%8B%D1%85_%D1%8D%D0%BB%D0%B5%D0%BA%D1%82%D1%80%D0%BE%D1%81%D1%82%D0%B0%D0%BD%D1%86%D0%B8%D0%B9_%D0%A0%D0%BE%D1%81%D1%81%D0%B8%D0%B8\"\n",
        "id_table = 0\n",
        "df_power = pd.read_html(url, header = 0, index_col = 0)[id_table]\n",
        "df_power"
      ],
      "execution_count": 0,
      "outputs": [
        {
          "output_type": "execute_result",
          "data": {
            "text/html": [
              "<div>\n",
              "<style scoped>\n",
              "    .dataframe tbody tr th:only-of-type {\n",
              "        vertical-align: middle;\n",
              "    }\n",
              "\n",
              "    .dataframe tbody tr th {\n",
              "        vertical-align: top;\n",
              "    }\n",
              "\n",
              "    .dataframe thead th {\n",
              "        text-align: right;\n",
              "    }\n",
              "</style>\n",
              "<table border=\"1\" class=\"dataframe\">\n",
              "  <thead>\n",
              "    <tr style=\"text-align: right;\">\n",
              "      <th></th>\n",
              "      <th>Название</th>\n",
              "      <th>Установленнаямощность, МВт</th>\n",
              "      <th>Тепловаямощность, Гкал/ч</th>\n",
              "      <th>Типустановки</th>\n",
              "      <th>Собственник</th>\n",
              "      <th>Регион</th>\n",
              "      <th>Основное топливо</th>\n",
              "      <th>Источник</th>\n",
              "    </tr>\n",
              "    <tr>\n",
              "      <th>№</th>\n",
              "      <th></th>\n",
              "      <th></th>\n",
              "      <th></th>\n",
              "      <th></th>\n",
              "      <th></th>\n",
              "      <th></th>\n",
              "      <th></th>\n",
              "      <th></th>\n",
              "    </tr>\n",
              "  </thead>\n",
              "  <tbody>\n",
              "    <tr>\n",
              "      <th>1</th>\n",
              "      <td>Белгородская ТЭЦ</td>\n",
              "      <td>60</td>\n",
              "      <td>3604.0</td>\n",
              "      <td>ГТУ</td>\n",
              "      <td>ПАО «Квадра»</td>\n",
              "      <td>Белгородская область</td>\n",
              "      <td>Природный газ</td>\n",
              "      <td>✓[СиПР 1]</td>\n",
              "    </tr>\n",
              "    <tr>\n",
              "      <th>2</th>\n",
              "      <td>ГТ ТЭЦ «Луч»</td>\n",
              "      <td>60</td>\n",
              "      <td>624.0</td>\n",
              "      <td>ГТУ</td>\n",
              "      <td>ПАО «Квадра»</td>\n",
              "      <td>Белгородская область</td>\n",
              "      <td>Природный газ</td>\n",
              "      <td>✓[СиПР 1]</td>\n",
              "    </tr>\n",
              "    <tr>\n",
              "      <th>3</th>\n",
              "      <td>Мичуринская ГТ-ТЭЦ</td>\n",
              "      <td>36</td>\n",
              "      <td>80.0</td>\n",
              "      <td>ГТУ</td>\n",
              "      <td>АО «ГТ Энерго»</td>\n",
              "      <td>Белгородская область</td>\n",
              "      <td>Природный газ</td>\n",
              "      <td>✓[СиПР 1]</td>\n",
              "    </tr>\n",
              "    <tr>\n",
              "      <th>4</th>\n",
              "      <td>Губкинская ТЭЦ</td>\n",
              "      <td>29</td>\n",
              "      <td>148.0</td>\n",
              "      <td>ПТУ</td>\n",
              "      <td>ПАО «Квадра»</td>\n",
              "      <td>Белгородская область</td>\n",
              "      <td>Природный газ</td>\n",
              "      <td>✓[СиПР 1]</td>\n",
              "    </tr>\n",
              "    <tr>\n",
              "      <th>5</th>\n",
              "      <td>Владимирская ТЭЦ-2</td>\n",
              "      <td>596</td>\n",
              "      <td>11761.0</td>\n",
              "      <td>ПТУ, ПГУ</td>\n",
              "      <td>ПАО «Т Плюс»</td>\n",
              "      <td>Владимирская область</td>\n",
              "      <td>Природный газ</td>\n",
              "      <td>✓[3]</td>\n",
              "    </tr>\n",
              "    <tr>\n",
              "      <th>...</th>\n",
              "      <td>...</td>\n",
              "      <td>...</td>\n",
              "      <td>...</td>\n",
              "      <td>...</td>\n",
              "      <td>...</td>\n",
              "      <td>...</td>\n",
              "      <td>...</td>\n",
              "      <td>...</td>\n",
              "    </tr>\n",
              "    <tr>\n",
              "      <th>70</th>\n",
              "      <td>Щекинская ГРЭС</td>\n",
              "      <td>400</td>\n",
              "      <td>78.0</td>\n",
              "      <td>ПТУ</td>\n",
              "      <td>ООО «Щекинская ГРЭС»</td>\n",
              "      <td>Тульская область</td>\n",
              "      <td>газ</td>\n",
              "      <td>✓[СиПР 14]</td>\n",
              "    </tr>\n",
              "    <tr>\n",
              "      <th>71</th>\n",
              "      <td>Ярославская ТЭЦ-1</td>\n",
              "      <td>81</td>\n",
              "      <td>474.0</td>\n",
              "      <td>ПТУ</td>\n",
              "      <td>ПАО «ТГК-2»</td>\n",
              "      <td>Ярославская область</td>\n",
              "      <td>газ</td>\n",
              "      <td>✓[СиПР 15]</td>\n",
              "    </tr>\n",
              "    <tr>\n",
              "      <th>72</th>\n",
              "      <td>Ярославская ТЭЦ-2</td>\n",
              "      <td>245</td>\n",
              "      <td>900.0</td>\n",
              "      <td>ПТУ</td>\n",
              "      <td>ПАО «ТГК-2»</td>\n",
              "      <td>Ярославская область</td>\n",
              "      <td>газ, уголь</td>\n",
              "      <td>✓[СиПР 15]</td>\n",
              "    </tr>\n",
              "    <tr>\n",
              "      <th>73</th>\n",
              "      <td>Ярославская ТЭЦ-3</td>\n",
              "      <td>260</td>\n",
              "      <td>1308.0</td>\n",
              "      <td>ПТУ</td>\n",
              "      <td>ПАО «ТГК-2»</td>\n",
              "      <td>Ярославская область</td>\n",
              "      <td>газ</td>\n",
              "      <td>✓[СиПР 15]</td>\n",
              "    </tr>\n",
              "    <tr>\n",
              "      <th>74</th>\n",
              "      <td>Хуадянь-Тенинская ТЭЦ</td>\n",
              "      <td>4639</td>\n",
              "      <td>2957.0</td>\n",
              "      <td>ПГУ</td>\n",
              "      <td>ООО «Хуадян-Тенинская ТЭЦ»</td>\n",
              "      <td>Ярославская область</td>\n",
              "      <td>газ</td>\n",
              "      <td>✓[СиПР 15]</td>\n",
              "    </tr>\n",
              "  </tbody>\n",
              "</table>\n",
              "<p>74 rows × 8 columns</p>\n",
              "</div>"
            ],
            "text/plain": [
              "                 Название  ...    Источник\n",
              "№                          ...            \n",
              "1        Белгородская ТЭЦ  ...   ✓[СиПР 1]\n",
              "2            ГТ ТЭЦ «Луч»  ...   ✓[СиПР 1]\n",
              "3      Мичуринская ГТ-ТЭЦ  ...   ✓[СиПР 1]\n",
              "4          Губкинская ТЭЦ  ...   ✓[СиПР 1]\n",
              "5      Владимирская ТЭЦ-2  ...        ✓[3]\n",
              "..                    ...  ...         ...\n",
              "70         Щекинская ГРЭС  ...  ✓[СиПР 14]\n",
              "71      Ярославская ТЭЦ-1  ...  ✓[СиПР 15]\n",
              "72      Ярославская ТЭЦ-2  ...  ✓[СиПР 15]\n",
              "73      Ярославская ТЭЦ-3  ...  ✓[СиПР 15]\n",
              "74  Хуадянь-Тенинская ТЭЦ  ...  ✓[СиПР 15]\n",
              "\n",
              "[74 rows x 8 columns]"
            ]
          },
          "metadata": {
            "tags": []
          },
          "execution_count": 3
        }
      ]
    },
    {
      "cell_type": "code",
      "metadata": {
        "id": "N0o36SM0ebO9",
        "colab_type": "code",
        "outputId": "7a152ca1-a2e7-4ab2-8f7a-4e0a59321e9e",
        "colab": {
          "base_uri": "https://localhost:8080/",
          "height": 521
        }
      },
      "source": [
        "df_power = df_power.sort_values(['Название'])\n",
        "print(df_power)\n",
        "print()\n",
        "\n",
        "df_power = df_power.sort_values(['Типустановки'], ascending = False)\n",
        "print(df_power)"
      ],
      "execution_count": 0,
      "outputs": [
        {
          "output_type": "stream",
          "text": [
            "              Название  ...            Источник\n",
            "№                       ...                    \n",
            "64     Алексинская ТЭЦ  ...  ✓[СиПР 14][14][15]\n",
            "1     Белгородская ТЭЦ  ...           ✓[СиПР 1]\n",
            "5   Владимирская ТЭЦ-2  ...                ✓[3]\n",
            "7      Вологодская ТЭЦ  ...           ✓[СиПР 2]\n",
            "13   Воронежская ТЭЦ-1  ...        ✓[СиПР 3][4]\n",
            "..                 ...  ...                 ...\n",
            "46      Шатурская ГРЭС  ...           ✓[СиПР 9]\n",
            "70      Щекинская ГРЭС  ...          ✓[СиПР 14]\n",
            "71   Ярославская ТЭЦ-1  ...          ✓[СиПР 15]\n",
            "72   Ярославская ТЭЦ-2  ...          ✓[СиПР 15]\n",
            "73   Ярославская ТЭЦ-3  ...          ✓[СиПР 15]\n",
            "\n",
            "[74 rows x 8 columns]\n",
            "\n",
            "                    Название  ...            Источник\n",
            "№                             ...                    \n",
            "64           Алексинская ТЭЦ  ...  ✓[СиПР 14][14][15]\n",
            "54           Дягилевская ТЭЦ  ...           ✓[10][11]\n",
            "46            Шатурская ГРЭС  ...           ✓[СиПР 9]\n",
            "6          Череповецкая ГРЭС  ...           ✓[СиПР 2]\n",
            "48          ТЭЦ-27 Мосэнерго  ...           ✓[СиПР 9]\n",
            "..                       ...  ...                 ...\n",
            "8                    ТЭЦ ПВС  ...           ✓[СиПР 2]\n",
            "10     ТЭЦ ФосАгро-Череповец  ...           ✓[СиПР 2]\n",
            "9                  ТЭЦ ЭВС-2  ...           ✓[СиПР 2]\n",
            "68  ТЭЦ-ПВС ПАО «Тулачермет»  ...          ✓[СиПР 14]\n",
            "28                 УТЭЦ НЛМК  ...           ✓[СиПР 7]\n",
            "\n",
            "[74 rows x 8 columns]\n"
          ],
          "name": "stdout"
        }
      ]
    },
    {
      "cell_type": "code",
      "metadata": {
        "id": "UrZ6ct-GekF6",
        "colab_type": "code",
        "outputId": "13654fc0-db7d-4d2f-ab20-27443c11a299",
        "colab": {
          "base_uri": "https://localhost:8080/",
          "height": 521
        }
      },
      "source": [
        "df_power_2 = df_power.copy()\n",
        "df_power_2['Тепловая мощность за сутки'] = df_power_2['Тепловаямощность, Гкал/ч'] * 24\n",
        "\n",
        "df_power_2['тип'] = np.where(df_power_2['Название'].str.find('ГРЭС') >= 0, 'ГРЭС', np.where(df_power_2['Название'].str.find('ТЭЦ') >= 0, 'ТЭЦ', '?'))\n",
        "\n",
        "print(df_power_2)\n",
        "print()\n",
        "\n",
        "df_power_2['проверка_расчетов'] =  df_power_2['Тепловая мощность за сутки'] / df_power_2['Тепловаямощность, Гкал/ч'] == 24\n",
        "print(df_power_2)"
      ],
      "execution_count": 0,
      "outputs": [
        {
          "output_type": "stream",
          "text": [
            "                    Название  ...   тип\n",
            "№                             ...      \n",
            "64           Алексинская ТЭЦ  ...   ТЭЦ\n",
            "54           Дягилевская ТЭЦ  ...   ТЭЦ\n",
            "46            Шатурская ГРЭС  ...  ГРЭС\n",
            "6          Череповецкая ГРЭС  ...  ГРЭС\n",
            "48          ТЭЦ-27 Мосэнерго  ...   ТЭЦ\n",
            "..                       ...  ...   ...\n",
            "8                    ТЭЦ ПВС  ...   ТЭЦ\n",
            "10     ТЭЦ ФосАгро-Череповец  ...   ТЭЦ\n",
            "9                  ТЭЦ ЭВС-2  ...   ТЭЦ\n",
            "68  ТЭЦ-ПВС ПАО «Тулачермет»  ...   ТЭЦ\n",
            "28                 УТЭЦ НЛМК  ...   ТЭЦ\n",
            "\n",
            "[74 rows x 10 columns]\n",
            "\n",
            "                    Название  ... проверка_расчетов\n",
            "№                             ...                  \n",
            "64           Алексинская ТЭЦ  ...              True\n",
            "54           Дягилевская ТЭЦ  ...              True\n",
            "46            Шатурская ГРЭС  ...              True\n",
            "6          Череповецкая ГРЭС  ...              True\n",
            "48          ТЭЦ-27 Мосэнерго  ...              True\n",
            "..                       ...  ...               ...\n",
            "8                    ТЭЦ ПВС  ...             False\n",
            "10     ТЭЦ ФосАгро-Череповец  ...             False\n",
            "9                  ТЭЦ ЭВС-2  ...             False\n",
            "68  ТЭЦ-ПВС ПАО «Тулачермет»  ...             False\n",
            "28                 УТЭЦ НЛМК  ...             False\n",
            "\n",
            "[74 rows x 11 columns]\n"
          ],
          "name": "stdout"
        }
      ]
    },
    {
      "cell_type": "code",
      "metadata": {
        "id": "kMW5TgO1elU4",
        "colab_type": "code",
        "outputId": "6dcf67c3-49b5-4dec-f3fa-4fc3188ef84c",
        "colab": {
          "base_uri": "https://localhost:8080/",
          "height": 537
        }
      },
      "source": [
        "print('все данные из столбцов \\'Тепловаямощность, Гкал/ч\\' и \\'Тепловая мощность за сутки\\'')\n",
        "print(df_power_2[['Тепловаямощность, Гкал/ч', 'Тепловая мощность за сутки']])\n",
        "print()\n",
        "print('все данные из столбца \\'тип\\'')\n",
        "print(df_power_2.тип)\n",
        "print()"
      ],
      "execution_count": 0,
      "outputs": [
        {
          "output_type": "stream",
          "text": [
            "все данные из столбцов 'Тепловаямощность, Гкал/ч' и 'Тепловая мощность за сутки'\n",
            "    Тепловаямощность, Гкал/ч  Тепловая мощность за сутки\n",
            "№                                                       \n",
            "64                     231.0                      5544.0\n",
            "54                     421.0                     10104.0\n",
            "46                    3443.0                     82632.0\n",
            "6                       39.0                       936.0\n",
            "48                    1876.0                     45024.0\n",
            "..                       ...                         ...\n",
            "8                        NaN                         NaN\n",
            "10                       NaN                         NaN\n",
            "9                        NaN                         NaN\n",
            "68                       NaN                         NaN\n",
            "28                       NaN                         NaN\n",
            "\n",
            "[74 rows x 2 columns]\n",
            "\n",
            "все данные из столбца 'тип'\n",
            "№\n",
            "64     ТЭЦ\n",
            "54     ТЭЦ\n",
            "46    ГРЭС\n",
            "6     ГРЭС\n",
            "48     ТЭЦ\n",
            "      ... \n",
            "8      ТЭЦ\n",
            "10     ТЭЦ\n",
            "9      ТЭЦ\n",
            "68     ТЭЦ\n",
            "28     ТЭЦ\n",
            "Name: тип, Length: 74, dtype: object\n",
            "\n"
          ],
          "name": "stdout"
        }
      ]
    },
    {
      "cell_type": "code",
      "metadata": {
        "id": "26FEjfdfeofn",
        "colab_type": "code",
        "outputId": "e7171edb-92d8-4d49-bfdc-75722bea9ac6",
        "colab": {
          "base_uri": "https://localhost:8080/",
          "height": 261
        }
      },
      "source": [
        "df_power = df_power_2.drop(['Источник'], axis='columns')\n",
        "df_power = df_power_2.drop(['Основное топливо'], axis='columns')\n",
        "df_power = df_power_2.drop(['Регион'], axis='columns')\n",
        "df_power = df_power_2.drop(['Собственник'], axis='columns')\n",
        "print(df_power)"
      ],
      "execution_count": 0,
      "outputs": [
        {
          "output_type": "stream",
          "text": [
            "                    Название  ... проверка_расчетов\n",
            "№                             ...                  \n",
            "64           Алексинская ТЭЦ  ...              True\n",
            "54           Дягилевская ТЭЦ  ...              True\n",
            "46            Шатурская ГРЭС  ...              True\n",
            "6          Череповецкая ГРЭС  ...              True\n",
            "48          ТЭЦ-27 Мосэнерго  ...              True\n",
            "..                       ...  ...               ...\n",
            "8                    ТЭЦ ПВС  ...             False\n",
            "10     ТЭЦ ФосАгро-Череповец  ...             False\n",
            "9                  ТЭЦ ЭВС-2  ...             False\n",
            "68  ТЭЦ-ПВС ПАО «Тулачермет»  ...             False\n",
            "28                 УТЭЦ НЛМК  ...             False\n",
            "\n",
            "[74 rows x 10 columns]\n"
          ],
          "name": "stdout"
        }
      ]
    },
    {
      "cell_type": "code",
      "metadata": {
        "id": "fqGU-qljesSD",
        "colab_type": "code",
        "outputId": "5637fef0-e73b-43ae-f541-bd5717cffaee",
        "colab": {
          "base_uri": "https://localhost:8080/",
          "height": 277
        }
      },
      "source": [
        "print(df_power[df_power['Тепловаямощность, Гкал/ч'] > 3000.])\n",
        "print() "
      ],
      "execution_count": 0,
      "outputs": [
        {
          "output_type": "stream",
          "text": [
            "               Название Установленнаямощность, МВт  ...   тип проверка_расчетов\n",
            "№                                                   ...                        \n",
            "46       Шатурская ГРЭС                       1500  ...  ГРЭС              True\n",
            "30               ТЭЦ-26                      18409  ...   ТЭЦ              True\n",
            "31               ТЭЦ-21                       1765  ...   ТЭЦ              True\n",
            "66  Новомосковская ГРЭС                      23365  ...  ГРЭС              True\n",
            "55   Ново-Рязанская ТЭЦ                        430  ...   ТЭЦ              True\n",
            "5    Владимирская ТЭЦ-2                        596  ...   ТЭЦ              True\n",
            "47     ТЭЦ-22 Мосэнерго                       1070  ...   ТЭЦ              True\n",
            "32               ТЭЦ-23                       1420  ...   ТЭЦ              True\n",
            "33               ТЭЦ-25                       1370  ...   ТЭЦ              True\n",
            "16     Ивановская ТЭЦ-2                        200  ...   ТЭЦ              True\n",
            "1      Белгородская ТЭЦ                         60  ...   ТЭЦ              True\n",
            "\n",
            "[11 rows x 10 columns]\n",
            "\n"
          ],
          "name": "stdout"
        }
      ]
    },
    {
      "cell_type": "code",
      "metadata": {
        "id": "OSl3sWszeylN",
        "colab_type": "code",
        "outputId": "5e0f8be7-2412-4f82-e01a-6f158d34bb39",
        "colab": {
          "base_uri": "https://localhost:8080/",
          "height": 115
        }
      },
      "source": [
        "print(df_power.groupby(['тип'])['Тепловаямощность, Гкал/ч'].sum())\n",
        "print()"
      ],
      "execution_count": 0,
      "outputs": [
        {
          "output_type": "stream",
          "text": [
            "тип\n",
            "?         2483.0\n",
            "ГРЭС     12289.0\n",
            "ТЭЦ     231569.0\n",
            "Name: Тепловаямощность, Гкал/ч, dtype: float64\n",
            "\n"
          ],
          "name": "stdout"
        }
      ]
    },
    {
      "cell_type": "code",
      "metadata": {
        "id": "a_BRuoE8e3uJ",
        "colab_type": "code",
        "outputId": "654feed6-1d6b-4a2b-eccb-ba56b8ac8dcf",
        "colab": {
          "base_uri": "https://localhost:8080/",
          "height": 281
        }
      },
      "source": [
        "df_power.groupby(['тип'])['Тепловаямощность, Гкал/ч'].sum().plot(kind = 'barh')\n",
        "print()"
      ],
      "execution_count": 0,
      "outputs": [
        {
          "output_type": "stream",
          "text": [
            "\n"
          ],
          "name": "stdout"
        },
        {
          "output_type": "display_data",
          "data": {
            "image/png": "[encoded data removed]",
            "text/plain": [
              "<Figure size 432x288 with 1 Axes>"
            ]
          },
          "metadata": {
            "tags": [],
            "needs_background": "light"
          }
        }
      ]
    },
    {
      "cell_type": "code",
      "metadata": {
        "id": "KN8NoQKlln1D",
        "colab_type": "code",
        "colab": {}
      },
      "source": [
        "import matplotlib.pyplot as plt\n",
        " \n",
        "labels = ['Белгородская ТЭЦ', 'ГТ ТЭЦ «Луч»\t','Мичуринская ГТ-ТЭЦ\t','Губкинская ТЭЦ','Ярославская ТЭЦ-1\t']\n",
        "\n",
        "sizes = [60,60,36,29,81]"
      ],
      "execution_count": 0,
      "outputs": []
    },
    {
      "cell_type": "code",
      "metadata": {
        "id": "HJG1t2AulpwK",
        "colab_type": "code",
        "outputId": "669d21b7-c22c-4974-b03f-e893316d5dcc",
        "colab": {
          "base_uri": "https://localhost:8080/",
          "height": 312
        }
      },
      "source": [
        "fig1, ax1 = plt.subplots()\n",
        "ax1.pie(sizes, labels=labels)\n",
        "plt.show()"
      ],
      "execution_count": 0,
      "outputs": [
        {
          "output_type": "stream",
          "text": [
            "/usr/local/lib/python3.6/dist-packages/matplotlib/backends/backend_agg.py:214: RuntimeWarning: Glyph 9 missing from current font.\n",
            "  font.set_text(s, 0.0, flags=flags)\n",
            "/usr/local/lib/python3.6/dist-packages/matplotlib/backends/backend_agg.py:183: RuntimeWarning: Glyph 9 missing from current font.\n",
            "  font.set_text(s, 0, flags=flags)\n"
          ],
          "name": "stderr"
        },
        {
          "output_type": "display_data",
          "data": {
            "image/png": "[encoded data removed]",
            "text/plain": [
              "<Figure size 432x288 with 1 Axes>"
            ]
          },
          "metadata": {
            "tags": []
          }
        }
      ]
    },
    {
      "cell_type": "code",
      "metadata": {
        "id": "jGwhvs9v-9t2",
        "colab_type": "code",
        "outputId": "a8d4fc45-25fb-41ca-da35-d24bdbac5b11",
        "colab": {
          "base_uri": "https://localhost:8080/",
          "height": 437
        }
      },
      "source": [
        "# Подключение библиотек для интерактивного графика\n",
        "from bokeh.plotting import figure, output_file, show\n",
        "from bokeh.io import output_notebook\n",
        "import numpy as np\n",
        "\n",
        "output_notebook()\n",
        "\n",
        "# Построение интерактивной гистограммы\n",
        "p = figure(x_range=df_power.iloc[: , 0], plot_width=1600, plot_height=400, title=\"Установленнаямощность, МВт\")\n",
        "\n",
        "p.vbar(x=df_power.iloc[: , 0], top=df_power.iloc[: , 1], width=0.5)\n",
        "\n",
        "p.xgrid.grid_line_color = None\n",
        "p.y_range.start = 0\n",
        "\n",
        "show(p)\n"
      ],
      "execution_count": 0,
      "outputs": [
        {
          "output_type": "display_data",
          "data": {
            "application/javascript": [
              "\n",
              "(function(root) {\n",
              "  function now() {\n",
              "    return new Date();\n",
              "  }\n",
              "\n",
              "  var force = true;\n",
              "\n",
              "  if (typeof root._bokeh_onload_callbacks === \"undefined\" || force === true) {\n",
              "    root._bokeh_onload_callbacks = [];\n",
              "    root._bokeh_is_loading = undefined;\n",
              "  }\n",
              "\n",
              "  var JS_MIME_TYPE = 'application/javascript';\n",
              "  var HTML_MIME_TYPE = 'text/html';\n",
              "  var EXEC_MIME_TYPE = 'application/vnd.bokehjs_exec.v0+json';\n",
              "  var CLASS_NAME = 'output_bokeh rendered_html';\n",
              "\n",
              "  /**\n",
              "   * Render data to the DOM node\n",
              "   */\n",
              "  function render(props, node) {\n",
              "    var script = document.createElement(\"script\");\n",
              "    node.appendChild(script);\n",
              "  }\n",
              "\n",
              "  /**\n",
              "   * Handle when an output is cleared or removed\n",
              "   */\n",
              "  function handleClearOutput(event, handle) {\n",
              "    var cell = handle.cell;\n",
              "\n",
              "    var id = cell.output_area._bokeh_element_id;\n",
              "    var server_id = cell.output_area._bokeh_server_id;\n",
              "    // Clean up Bokeh references\n",
              "    if (id != null && id in Bokeh.index) {\n",
              "      Bokeh.index[id].model.document.clear();\n",
              "      delete Bokeh.index[id];\n",
              "    }\n",
              "\n",
              "    if (server_id !== undefined) {\n",
              "      // Clean up Bokeh references\n",
              "      var cmd = \"from bokeh.io.state import curstate; print(curstate().uuid_to_server['\" + server_id + \"'].get_sessions()[0].document.roots[0]._id)\";\n",
              "      cell.notebook.kernel.execute(cmd, {\n",
              "        iopub: {\n",
              "          output: function(msg) {\n",
              "            var id = msg.content.text.trim();\n",
              "            if (id in Bokeh.index) {\n",
              "              Bokeh.index[id].model.document.clear();\n",
              "              delete Bokeh.index[id];\n",
              "            }\n",
              "          }\n",
              "        }\n",
              "      });\n",
              "      // Destroy server and session\n",
              "      var cmd = \"import bokeh.io.notebook as ion; ion.destroy_server('\" + server_id + \"')\";\n",
              "      cell.notebook.kernel.execute(cmd);\n",
              "    }\n",
              "  }\n",
              "\n",
              "  /**\n",
              "   * Handle when a new output is added\n",
              "   */\n",
              "  function handleAddOutput(event, handle) {\n",
              "    var output_area = handle.output_area;\n",
              "    var output = handle.output;\n",
              "\n",
              "    // limit handleAddOutput to display_data with EXEC_MIME_TYPE content only\n",
              "    if ((output.output_type != \"display_data\") || (!output.data.hasOwnProperty(EXEC_MIME_TYPE))) {\n",
              "      return\n",
              "    }\n",
              "\n",
              "    var toinsert = output_area.element.find(\".\" + CLASS_NAME.split(' ')[0]);\n",
              "\n",
              "    if (output.metadata[EXEC_MIME_TYPE][\"id\"] !== undefined) {\n",
              "      toinsert[toinsert.length - 1].firstChild.textContent = output.data[JS_MIME_TYPE];\n",
              "      // store reference to embed id on output_area\n",
              "      output_area._bokeh_element_id = output.metadata[EXEC_MIME_TYPE][\"id\"];\n",
              "    }\n",
              "    if (output.metadata[EXEC_MIME_TYPE][\"server_id\"] !== undefined) {\n",
              "      var bk_div = document.createElement(\"div\");\n",
              "      bk_div.innerHTML = output.data[HTML_MIME_TYPE];\n",
              "      var script_attrs = bk_div.children[0].attributes;\n",
              "      for (var i = 0; i < script_attrs.length; i++) {\n",
              "        toinsert[toinsert.length - 1].firstChild.setAttribute(script_attrs[i].name, script_attrs[i].value);\n",
              "      }\n",
              "      // store reference to server id on output_area\n",
              "      output_area._bokeh_server_id = output.metadata[EXEC_MIME_TYPE][\"server_id\"];\n",
              "    }\n",
              "  }\n",
              "\n",
              "  function register_renderer(events, OutputArea) {\n",
              "\n",
              "    function append_mime(data, metadata, element) {\n",
              "      // create a DOM node to render to\n",
              "      var toinsert = this.create_output_subarea(\n",
              "        metadata,\n",
              "        CLASS_NAME,\n",
              "        EXEC_MIME_TYPE\n",
              "      );\n",
              "      this.keyboard_manager.register_events(toinsert);\n",
              "      // Render to node\n",
              "      var props = {data: data, metadata: metadata[EXEC_MIME_TYPE]};\n",
              "      render(props, toinsert[toinsert.length - 1]);\n",
              "      element.append(toinsert);\n",
              "      return toinsert\n",
              "    }\n",
              "\n",
              "    /* Handle when an output is cleared or removed */\n",
              "    events.on('clear_output.CodeCell', handleClearOutput);\n",
              "    events.on('delete.Cell', handleClearOutput);\n",
              "\n",
              "    /* Handle when a new output is added */\n",
              "    events.on('output_added.OutputArea', handleAddOutput);\n",
              "\n",
              "    /**\n",
              "     * Register the mime type and append_mime function with output_area\n",
              "     */\n",
              "    OutputArea.prototype.register_mime_type(EXEC_MIME_TYPE, append_mime, {\n",
              "      /* Is output safe? */\n",
              "      safe: true,\n",
              "      /* Index of renderer in `output_area.display_order` */\n",
              "      index: 0\n",
              "    });\n",
              "  }\n",
              "\n",
              "  // register the mime type if in Jupyter Notebook environment and previously unregistered\n",
              "  if (root.Jupyter !== undefined) {\n",
              "    var events = require('base/js/events');\n",
              "    var OutputArea = require('notebook/js/outputarea').OutputArea;\n",
              "\n",
              "    if (OutputArea.prototype.mime_types().indexOf(EXEC_MIME_TYPE) == -1) {\n",
              "      register_renderer(events, OutputArea);\n",
              "    }\n",
              "  }\n",
              "\n",
              "  \n",
              "  if (typeof (root._bokeh_timeout) === \"undefined\" || force === true) {\n",
              "    root._bokeh_timeout = Date.now() + 5000;\n",
              "    root._bokeh_failed_load = false;\n",
              "  }\n",
              "\n",
              "  var NB_LOAD_WARNING = {'data': {'text/html':\n",
              "     \"<div style='background-color: #fdd'>\\n\"+\n",
              "     \"<p>\\n\"+\n",
              "     \"BokehJS does not appear to have successfully loaded. If loading BokehJS from CDN, this \\n\"+\n",
              "     \"may be due to a slow or bad network connection. Possible fixes:\\n\"+\n",
              "     \"</p>\\n\"+\n",
              "     \"<ul>\\n\"+\n",
              "     \"<li>re-rerun `output_notebook()` to attempt to load from CDN again, or</li>\\n\"+\n",
              "     \"<li>use INLINE resources instead, as so:</li>\\n\"+\n",
              "     \"</ul>\\n\"+\n",
              "     \"<code>\\n\"+\n",
              "     \"from bokeh.resources import INLINE\\n\"+\n",
              "     \"output_notebook(resources=INLINE)\\n\"+\n",
              "     \"</code>\\n\"+\n",
              "     \"</div>\"}};\n",
              "\n",
              "  function display_loaded() {\n",
              "    var el = document.getElementById(null);\n",
              "    if (el != null) {\n",
              "      el.textContent = \"BokehJS is loading...\";\n",
              "    }\n",
              "    if (root.Bokeh !== undefined) {\n",
              "      if (el != null) {\n",
              "        el.textContent = \"BokehJS \" + root.Bokeh.version + \" successfully loaded.\";\n",
              "      }\n",
              "    } else if (Date.now() < root._bokeh_timeout) {\n",
              "      setTimeout(display_loaded, 100)\n",
              "    }\n",
              "  }\n",
              "\n",
              "\n",
              "  function run_callbacks() {\n",
              "    try {\n",
              "      root._bokeh_onload_callbacks.forEach(function(callback) {\n",
              "        if (callback != null)\n",
              "          callback();\n",
              "      });\n",
              "    } finally {\n",
              "      delete root._bokeh_onload_callbacks\n",
              "    }\n",
              "    console.debug(\"Bokeh: all callbacks have finished\");\n",
              "  }\n",
              "\n",
              "  function load_libs(css_urls, js_urls, callback) {\n",
              "    if (css_urls == null) css_urls = [];\n",
              "    if (js_urls == null) js_urls = [];\n",
              "\n",
              "    root._bokeh_onload_callbacks.push(callback);\n",
              "    if (root._bokeh_is_loading > 0) {\n",
              "      console.debug(\"Bokeh: BokehJS is being loaded, scheduling callback at\", now());\n",
              "      return null;\n",
              "    }\n",
              "    if (js_urls == null || js_urls.length === 0) {\n",
              "      run_callbacks();\n",
              "      return null;\n",
              "    }\n",
              "    console.debug(\"Bokeh: BokehJS not loaded, scheduling load and callback at\", now());\n",
              "    root._bokeh_is_loading = css_urls.length + js_urls.length;\n",
              "\n",
              "    function on_load() {\n",
              "      root._bokeh_is_loading--;\n",
              "      if (root._bokeh_is_loading === 0) {\n",
              "        console.debug(\"Bokeh: all BokehJS libraries/stylesheets loaded\");\n",
              "        run_callbacks()\n",
              "      }\n",
              "    }\n",
              "\n",
              "    function on_error() {\n",
              "      console.error(\"failed to load \" + url);\n",
              "    }\n",
              "\n",
              "    for (var i = 0; i < css_urls.length; i++) {\n",
              "      var url = css_urls[i];\n",
              "      const element = document.createElement(\"link\");\n",
              "      element.onload = on_load;\n",
              "      element.onerror = on_error;\n",
              "      element.rel = \"stylesheet\";\n",
              "      element.type = \"text/css\";\n",
              "      element.href = url;\n",
              "      console.debug(\"Bokeh: injecting link tag for BokehJS stylesheet: \", url);\n",
              "      document.body.appendChild(element);\n",
              "    }\n",
              "\n",
              "    for (var i = 0; i < js_urls.length; i++) {\n",
              "      var url = js_urls[i];\n",
              "      var element = document.createElement('script');\n",
              "      element.onload = on_load;\n",
              "      element.onerror = on_error;\n",
              "      element.async = false;\n",
              "      element.src = url;\n",
              "      console.debug(\"Bokeh: injecting script tag for BokehJS library: \", url);\n",
              "      document.head.appendChild(element);\n",
              "    }\n",
              "  };\n",
              "\n",
              "  function inject_raw_css(css) {\n",
              "    const element = document.createElement(\"style\");\n",
              "    element.appendChild(document.createTextNode(css));\n",
              "    document.body.appendChild(element);\n",
              "  }\n",
              "\n",
              "  \n",
              "  var js_urls = [\"https://cdn.pydata.org/bokeh/release/bokeh-1.4.0.min.js\", \"https://cdn.pydata.org/bokeh/release/bokeh-widgets-1.4.0.min.js\", \"https://cdn.pydata.org/bokeh/release/bokeh-tables-1.4.0.min.js\", \"https://cdn.pydata.org/bokeh/release/bokeh-gl-1.4.0.min.js\"];\n",
              "  var css_urls = [];\n",
              "  \n",
              "\n",
              "  var inline_js = [\n",
              "    function(Bokeh) {\n",
              "      Bokeh.set_log_level(\"info\");\n",
              "    },\n",
              "    function(Bokeh) {\n",
              "    \n",
              "    \n",
              "    }\n",
              "  ];\n",
              "\n",
              "  function run_inline_js() {\n",
              "    \n",
              "    if (root.Bokeh !== undefined || force === true) {\n",
              "      \n",
              "    for (var i = 0; i < inline_js.length; i++) {\n",
              "      inline_js[i].call(root, root.Bokeh);\n",
              "    }\n",
              "    } else if (Date.now() < root._bokeh_timeout) {\n",
              "      setTimeout(run_inline_js, 100);\n",
              "    } else if (!root._bokeh_failed_load) {\n",
              "      console.log(\"Bokeh: BokehJS failed to load within specified timeout.\");\n",
              "      root._bokeh_failed_load = true;\n",
              "    } else if (force !== true) {\n",
              "      var cell = $(document.getElementById(null)).parents('.cell').data().cell;\n",
              "      cell.output_area.append_execute_result(NB_LOAD_WARNING)\n",
              "    }\n",
              "\n",
              "  }\n",
              "\n",
              "  if (root._bokeh_is_loading === 0) {\n",
              "    console.debug(\"Bokeh: BokehJS loaded, going straight to plotting\");\n",
              "    run_inline_js();\n",
              "  } else {\n",
              "    load_libs(css_urls, js_urls, function() {\n",
              "      console.debug(\"Bokeh: BokehJS plotting callback run at\", now());\n",
              "      run_inline_js();\n",
              "    });\n",
              "  }\n",
              "}(window));"
            ],
            "application/vnd.bokehjs_load.v0+json": "\n(function(root) {\n  function now() {\n    return new Date();\n  }\n\n  var force = true;\n\n  if (typeof root._bokeh_onload_callbacks === \"undefined\" || force === true) {\n    root._bokeh_onload_callbacks = [];\n    root._bokeh_is_loading = undefined;\n  }\n\n  \n\n  \n  if (typeof (root._bokeh_timeout) === \"undefined\" || force === true) {\n    root._bokeh_timeout = Date.now() + 5000;\n    root._bokeh_failed_load = false;\n  }\n\n  var NB_LOAD_WARNING = {'data': {'text/html':\n     \"<div style='background-color: #fdd'>\\n\"+\n     \"<p>\\n\"+\n     \"BokehJS does not appear to have successfully loaded. If loading BokehJS from CDN, this \\n\"+\n     \"may be due to a slow or bad network connection. Possible fixes:\\n\"+\n     \"</p>\\n\"+\n     \"<ul>\\n\"+\n     \"<li>re-rerun `output_notebook()` to attempt to load from CDN again, or</li>\\n\"+\n     \"<li>use INLINE resources instead, as so:</li>\\n\"+\n     \"</ul>\\n\"+\n     \"<code>\\n\"+\n     \"from bokeh.resources import INLINE\\n\"+\n     \"output_notebook(resources=INLINE)\\n\"+\n     \"</code>\\n\"+\n     \"</div>\"}};\n\n  function display_loaded() {\n    var el = document.getElementById(null);\n    if (el != null) {\n      el.textContent = \"BokehJS is loading...\";\n    }\n    if (root.Bokeh !== undefined) {\n      if (el != null) {\n        el.textContent = \"BokehJS \" + root.Bokeh.version + \" successfully loaded.\";\n      }\n    } else if (Date.now() < root._bokeh_timeout) {\n      setTimeout(display_loaded, 100)\n    }\n  }\n\n\n  function run_callbacks() {\n    try {\n      root._bokeh_onload_callbacks.forEach(function(callback) {\n        if (callback != null)\n          callback();\n      });\n    } finally {\n      delete root._bokeh_onload_callbacks\n    }\n    console.debug(\"Bokeh: all callbacks have finished\");\n  }\n\n  function load_libs(css_urls, js_urls, callback) {\n    if (css_urls == null) css_urls = [];\n    if (js_urls == null) js_urls = [];\n\n    root._bokeh_onload_callbacks.push(callback);\n    if (root._bokeh_is_loading > 0) {\n      console.debug(\"Bokeh: BokehJS is being loaded, scheduling callback at\", now());\n      return null;\n    }\n    if (js_urls == null || js_urls.length === 0) {\n      run_callbacks();\n      return null;\n    }\n    console.debug(\"Bokeh: BokehJS not loaded, scheduling load and callback at\", now());\n    root._bokeh_is_loading = css_urls.length + js_urls.length;\n\n    function on_load() {\n      root._bokeh_is_loading--;\n      if (root._bokeh_is_loading === 0) {\n        console.debug(\"Bokeh: all BokehJS libraries/stylesheets loaded\");\n        run_callbacks()\n      }\n    }\n\n    function on_error() {\n      console.error(\"failed to load \" + url);\n    }\n\n    for (var i = 0; i < css_urls.length; i++) {\n      var url = css_urls[i];\n      const element = document.createElement(\"link\");\n      element.onload = on_load;\n      element.onerror = on_error;\n      element.rel = \"stylesheet\";\n      element.type = \"text/css\";\n      element.href = url;\n      console.debug(\"Bokeh: injecting link tag for BokehJS stylesheet: \", url);\n      document.body.appendChild(element);\n    }\n\n    for (var i = 0; i < js_urls.length; i++) {\n      var url = js_urls[i];\n      var element = document.createElement('script');\n      element.onload = on_load;\n      element.onerror = on_error;\n      element.async = false;\n      element.src = url;\n      console.debug(\"Bokeh: injecting script tag for BokehJS library: \", url);\n      document.head.appendChild(element);\n    }\n  };\n\n  function inject_raw_css(css) {\n    const element = document.createElement(\"style\");\n    element.appendChild(document.createTextNode(css));\n    document.body.appendChild(element);\n  }\n\n  \n  var js_urls = [\"https://cdn.pydata.org/bokeh/release/bokeh-1.4.0.min.js\", \"https://cdn.pydata.org/bokeh/release/bokeh-widgets-1.4.0.min.js\", \"https://cdn.pydata.org/bokeh/release/bokeh-tables-1.4.0.min.js\", \"https://cdn.pydata.org/bokeh/release/bokeh-gl-1.4.0.min.js\"];\n  var css_urls = [];\n  \n\n  var inline_js = [\n    function(Bokeh) {\n      Bokeh.set_log_level(\"info\");\n    },\n    function(Bokeh) {\n    \n    \n    }\n  ];\n\n  function run_inline_js() {\n    \n    if (root.Bokeh !== undefined || force === true) {\n      \n    for (var i = 0; i < inline_js.length; i++) {\n      inline_js[i].call(root, root.Bokeh);\n    }\n    } else if (Date.now() < root._bokeh_timeout) {\n      setTimeout(run_inline_js, 100);\n    } else if (!root._bokeh_failed_load) {\n      console.log(\"Bokeh: BokehJS failed to load within specified timeout.\");\n      root._bokeh_failed_load = true;\n    } else if (force !== true) {\n      var cell = $(document.getElementById(null)).parents('.cell').data().cell;\n      cell.output_area.append_execute_result(NB_LOAD_WARNING)\n    }\n\n  }\n\n  if (root._bokeh_is_loading === 0) {\n    console.debug(\"Bokeh: BokehJS loaded, going straight to plotting\");\n    run_inline_js();\n  } else {\n    load_libs(css_urls, js_urls, function() {\n      console.debug(\"Bokeh: BokehJS plotting callback run at\", now());\n      run_inline_js();\n    });\n  }\n}(window));"
          },
          "metadata": {
            "tags": []
          }
        },
        {
          "output_type": "display_data",
          "data": {
            "text/html": [
              "\n",
              "\n",
              "\n",
              "\n",
              "\n",
              "\n",
              "  <div class=\"bk-root\" id=\"fd14d99c-bb92-4da6-942b-863e02531ae5\" data-root-id=\"1001\"></div>\n"
            ]
          },
          "metadata": {
            "tags": []
          }
        },
        {
          "output_type": "display_data",
          "data": {
            "application/javascript": [
              "(function(root) {\n",
              "  function embed_document(root) {\n",
              "    \n",
              "  var docs_json = {\"1e8c69ae-7690-4d07-8e97-37eeb321f552\":{\"roots\":{\"references\":[{\"attributes\":{\"below\":[{\"id\":\"1012\",\"type\":\"CategoricalAxis\"}],\"center\":[{\"id\":\"1015\",\"type\":\"Grid\"},{\"id\":\"1020\",\"type\":\"Grid\"}],\"left\":[{\"id\":\"1016\",\"type\":\"LinearAxis\"}],\"plot_height\":400,\"plot_width\":1600,\"renderers\":[{\"id\":\"1037\",\"type\":\"GlyphRenderer\"}],\"title\":{\"id\":\"1002\",\"type\":\"Title\"},\"toolbar\":{\"id\":\"1027\",\"type\":\"Toolbar\"},\"x_range\":{\"id\":\"1004\",\"type\":\"FactorRange\"},\"x_scale\":{\"id\":\"1008\",\"type\":\"CategoricalScale\"},\"y_range\":{\"id\":\"1006\",\"type\":\"DataRange1d\"},\"y_scale\":{\"id\":\"1010\",\"type\":\"LinearScale\"}},\"id\":\"1001\",\"subtype\":\"Figure\",\"type\":\"Plot\"},{\"attributes\":{},\"id\":\"1008\",\"type\":\"CategoricalScale\"},{\"attributes\":{\"data_source\":{\"id\":\"1034\",\"type\":\"ColumnDataSource\"},\"glyph\":{\"id\":\"1035\",\"type\":\"VBar\"},\"hover_glyph\":null,\"muted_glyph\":null,\"nonselection_glyph\":{\"id\":\"1036\",\"type\":\"VBar\"},\"selection_glyph\":null,\"view\":{\"id\":\"1038\",\"type\":\"CDSView\"}},\"id\":\"1037\",\"type\":\"GlyphRenderer\"},{\"attributes\":{},\"id\":\"1010\",\"type\":\"LinearScale\"},{\"attributes\":{\"callback\":null,\"start\":0},\"id\":\"1006\",\"type\":\"DataRange1d\"},{\"attributes\":{\"formatter\":{\"id\":\"1040\",\"type\":\"CategoricalTickFormatter\"},\"ticker\":{\"id\":\"1013\",\"type\":\"CategoricalTicker\"}},\"id\":\"1012\",\"type\":\"CategoricalAxis\"},{\"attributes\":{\"source\":{\"id\":\"1034\",\"type\":\"ColumnDataSource\"}},\"id\":\"1038\",\"type\":\"CDSView\"},{\"attributes\":{},\"id\":\"1013\",\"type\":\"CategoricalTicker\"},{\"attributes\":{\"grid_line_color\":null,\"ticker\":{\"id\":\"1013\",\"type\":\"CategoricalTicker\"}},\"id\":\"1015\",\"type\":\"Grid\"},{\"attributes\":{\"fill_color\":{\"value\":\"#1f77b4\"},\"line_color\":{\"value\":\"#1f77b4\"},\"top\":{\"field\":\"top\"},\"width\":{\"value\":0.5},\"x\":{\"field\":\"x\"}},\"id\":\"1035\",\"type\":\"VBar\"},{\"attributes\":{},\"id\":\"1042\",\"type\":\"BasicTickFormatter\"},{\"attributes\":{\"bottom_units\":\"screen\",\"fill_alpha\":{\"value\":0.5},\"fill_color\":{\"value\":\"lightgrey\"},\"left_units\":\"screen\",\"level\":\"overlay\",\"line_alpha\":{\"value\":1.0},\"line_color\":{\"value\":\"black\"},\"line_dash\":[4,4],\"line_width\":{\"value\":2},\"render_mode\":\"css\",\"right_units\":\"screen\",\"top_units\":\"screen\"},\"id\":\"1046\",\"type\":\"BoxAnnotation\"},{\"attributes\":{\"formatter\":{\"id\":\"1042\",\"type\":\"BasicTickFormatter\"},\"ticker\":{\"id\":\"1017\",\"type\":\"BasicTicker\"}},\"id\":\"1016\",\"type\":\"LinearAxis\"},{\"attributes\":{},\"id\":\"1040\",\"type\":\"CategoricalTickFormatter\"},{\"attributes\":{},\"id\":\"1045\",\"type\":\"Selection\"},{\"attributes\":{},\"id\":\"1017\",\"type\":\"BasicTicker\"},{\"attributes\":{},\"id\":\"1044\",\"type\":\"UnionRenderers\"},{\"attributes\":{\"dimension\":1,\"ticker\":{\"id\":\"1017\",\"type\":\"BasicTicker\"}},\"id\":\"1020\",\"type\":\"Grid\"},{\"attributes\":{\"callback\":null,\"data\":{\"top\":[\"157\",\"2236\",\"1500\",\"1068\",\"1060\",\"18409\",\"1765\",\"1083\",\"651\",\"6116\",\"3130[\\u0441\\u043d\\u043e\\u0441\\u043a\\u0430 1]\",\"23365\",\"57\",\"430\",\"3576\",\"596\",\"1321\",\"127\",\"90\",\"5323\",\"418\",\"36\",\"330\",\"117\",\"1070\",\"1420\",\"1370\",\"235\",\"580\",\"275\",\"170\",\"88\",\"450\",\"400\",\"81\",\"245\",\"29\",\"260\",\"630\",\"33\",\"105\",\"160\",\"200\",\"330\",\"330\",\"76\",\"1310\",\"515\",\"125\",\"2520\",\"3600\",\"170\",\"325\",\"4639\",\"638\",\"170\",\"1169\",\"236\",\"2748\",\"36\",\"60\",\"60\",\"90\",\"1359\",\"57\",\"110\",\"36\",\"332\",\"43\",\"311\",\"102\",\"160\",\"1015\",\"150\"],\"x\":[\"\\u0410\\u043b\\u0435\\u043a\\u0441\\u0438\\u043d\\u0441\\u043a\\u0430\\u044f \\u0422\\u042d\\u0426\",\"\\u0414\\u044f\\u0433\\u0438\\u043b\\u0435\\u0432\\u0441\\u043a\\u0430\\u044f \\u0422\\u042d\\u0426\",\"\\u0428\\u0430\\u0442\\u0443\\u0440\\u0441\\u043a\\u0430\\u044f \\u0413\\u0420\\u042d\\u0421\",\"\\u0427\\u0435\\u0440\\u0435\\u043f\\u043e\\u0432\\u0435\\u0446\\u043a\\u0430\\u044f \\u0413\\u0420\\u042d\\u0421\",\"\\u0422\\u042d\\u0426-27 \\u041c\\u043e\\u0441\\u044d\\u043d\\u0435\\u0440\\u0433\\u043e\",\"\\u0422\\u042d\\u0426-26\",\"\\u0422\\u042d\\u0426-21\",\"\\u0422\\u042d\\u0426-20\",\"\\u0422\\u042d\\u0426-16\",\"\\u0422\\u042d\\u0426-12\",\"\\u0420\\u044f\\u0437\\u0430\\u043d\\u0441\\u043a\\u0430\\u044f \\u0413\\u0420\\u042d\\u0421\",\"\\u041d\\u043e\\u0432\\u043e\\u043c\\u043e\\u0441\\u043a\\u043e\\u0432\\u0441\\u043a\\u0430\\u044f \\u0413\\u0420\\u042d\\u0421\",\"\\u0415\\u043b\\u0435\\u0446\\u043a\\u0430\\u044f \\u0422\\u042d\\u0426\",\"\\u041d\\u043e\\u0432\\u043e-\\u0420\\u044f\\u0437\\u0430\\u043d\\u0441\\u043a\\u0430\\u044f \\u0422\\u042d\\u0426\",\"\\u0412\\u043e\\u0440\\u043e\\u043d\\u0435\\u0436\\u0441\\u043a\\u0430\\u044f \\u0422\\u042d\\u0426-1\",\"\\u0412\\u043b\\u0430\\u0434\\u0438\\u043c\\u0438\\u0440\\u0441\\u043a\\u0430\\u044f \\u0422\\u042d\\u0426-2\",\"\\u0412\\u043e\\u043b\\u043e\\u0433\\u043e\\u0434\\u0441\\u043a\\u0430\\u044f \\u0422\\u042d\\u0426\",\"\\u0412\\u043e\\u0440\\u043e\\u043d\\u0435\\u0436\\u0441\\u043a\\u0430\\u044f \\u0422\\u042d\\u0426-2\",\"\\u0414\\u043e\\u0440\\u043e\\u0433\\u043e\\u0431\\u0443\\u0436\\u0441\\u043a\\u0430\\u044f \\u0422\\u042d\\u0426\",\"\\u0413\\u0420\\u042d\\u0421-3 \\u0438\\u043c. \\u0420.\\u042d. \\u041a\\u043b\\u0430\\u0441\\u0441\\u043e\\u043d\\u0430\",\"\\u041a\\u0430\\u043b\\u0443\\u0436\\u0441\\u043a\\u0430\\u044f \\u0422\\u042d\\u0426\",\"\\u041b\\u0438\\u0432\\u0435\\u043d\\u0441\\u043a\\u0430\\u044f \\u0422\\u042d\\u0426\",\"\\u0422\\u042d\\u0426-11\",\"\\u0422\\u042d\\u0426-17 \\u041c\\u043e\\u0441\\u044d\\u043d\\u0435\\u0440\\u0433\\u043e\",\"\\u0422\\u042d\\u0426-22 \\u041c\\u043e\\u0441\\u044d\\u043d\\u0435\\u0440\\u0433\\u043e\",\"\\u0422\\u042d\\u0426-23\",\"\\u0422\\u042d\\u0426-25\",\"\\u0422\\u0430\\u043c\\u0431\\u043e\\u0432\\u0441\\u043a\\u0430\\u044f \\u0422\\u042d\\u0426\",\"\\u0422\\u042d\\u0426-8\",\"\\u0421\\u043c\\u043e\\u043b\\u0435\\u043d\\u0441\\u043a\\u0430\\u044f \\u0422\\u042d\\u0426-2\",\"\\u0422\\u0432\\u0435\\u0440\\u0441\\u043a\\u0430\\u044f \\u0422\\u042d\\u0426-3\",\"\\u0422\\u0432\\u0435\\u0440\\u0441\\u043a\\u0430\\u044f \\u0422\\u042d\\u0426-4\",\"\\u0427\\u0435\\u0440\\u0435\\u043f\\u0435\\u0442\\u0441\\u043a\\u0430\\u044f \\u0413\\u0420\\u042d\\u0421\",\"\\u0429\\u0435\\u043a\\u0438\\u043d\\u0441\\u043a\\u0430\\u044f \\u0413\\u0420\\u042d\\u0421\",\"\\u042f\\u0440\\u043e\\u0441\\u043b\\u0430\\u0432\\u0441\\u043a\\u0430\\u044f \\u0422\\u042d\\u0426-1\",\"\\u042f\\u0440\\u043e\\u0441\\u043b\\u0430\\u0432\\u0441\\u043a\\u0430\\u044f \\u0422\\u042d\\u0426-2\",\"\\u0413\\u0443\\u0431\\u043a\\u0438\\u043d\\u0441\\u043a\\u0430\\u044f \\u0422\\u042d\\u0426\",\"\\u042f\\u0440\\u043e\\u0441\\u043b\\u0430\\u0432\\u0441\\u043a\\u0430\\u044f \\u0422\\u042d\\u0426-3\",\"\\u0421\\u043c\\u043e\\u043b\\u0435\\u043d\\u0441\\u043a\\u0430\\u044f \\u0413\\u0420\\u042d\\u0421\",\"\\u041a\\u043e\\u0441\\u0442\\u0440\\u043e\\u043c\\u0441\\u043a\\u0430\\u044f \\u0422\\u042d\\u0426-1\",\"\\u041f\\u0435\\u0440\\u0432\\u043e\\u043c\\u0430\\u0439\\u0441\\u043a\\u0430\\u044f \\u0422\\u042d\\u0426\",\"\\u0415\\u0444\\u0440\\u0435\\u043c\\u043e\\u0432\\u0441\\u043a\\u0430\\u044f \\u0422\\u042d\\u0426\",\"\\u0418\\u0432\\u0430\\u043d\\u043e\\u0432\\u0441\\u043a\\u0430\\u044f \\u0422\\u042d\\u0426-2\",\"\\u041e\\u0440\\u043b\\u043e\\u0432\\u0441\\u043a\\u0430\\u044f \\u0422\\u042d\\u0426\",\"\\u0418\\u0432\\u0430\\u043d\\u043e\\u0432\\u0441\\u043a\\u0430\\u044f \\u0422\\u042d\\u0426-3\",\"\\u0413\\u042d\\u0421-1\",\"\\u041a\\u0430\\u0448\\u0438\\u0440\\u0441\\u043a\\u0430\\u044f \\u0413\\u0420\\u042d\\u0421\",\"\\u041b\\u0438\\u043f\\u0435\\u0446\\u043a\\u0430\\u044f \\u0422\\u042d\\u0426-2\",\"\\u041a\\u0443\\u0440\\u0441\\u043a\\u0430\\u044f \\u0422\\u042d\\u0426-1\",\"\\u041a\\u043e\\u043d\\u0430\\u043a\\u043e\\u0432\\u0441\\u043a\\u0430\\u044f \\u0413\\u0420\\u042d\\u0421\",\"\\u041a\\u043e\\u0441\\u0442\\u0440\\u043e\\u043c\\u0441\\u043a\\u0430\\u044f \\u0413\\u0420\\u042d\\u0421\",\"\\u041a\\u043e\\u0441\\u0442\\u0440\\u043e\\u043c\\u0441\\u043a\\u0430\\u044f \\u0422\\u042d\\u0426-2\",\"\\u0418\\u0432\\u0430\\u043d\\u043e\\u0432\\u0441\\u043a\\u0438\\u0435 \\u041f\\u0413\\u0423\",\"\\u0425\\u0443\\u0430\\u0434\\u044f\\u043d\\u044c-\\u0422\\u0435\\u043d\\u0438\\u043d\\u0441\\u043a\\u0430\\u044f \\u0422\\u042d\\u0426\",\"\\u041a\\u0440\\u0430\\u0441\\u0430\\u0432\\u0438\\u043d\\u0441\\u043a\\u0430\\u044f \\u0413\\u0422 \\u0422\\u042d\\u0426\",\"\\u0413\\u0422\\u042d\\u0421 \\u00ab\\u0422\\u0435\\u0440\\u0451\\u0448\\u043a\\u043e\\u0432\\u043e\\u00bb\",\"\\u041a\\u0443\\u0440\\u0441\\u043a\\u0430\\u044f \\u0422\\u042d\\u0426 \\u0421\\u0417\\u0420\",\"\\u0422\\u042d\\u0421 \\u00ab\\u041c\\u0435\\u0436\\u0434\\u0443\\u043d\\u0430\\u0440\\u043e\\u0434\\u043d\\u0430\\u044f\\u00bb\",\"\\u0422\\u042d\\u0426-9\",\"\\u041c\\u0438\\u0447\\u0443\\u0440\\u0438\\u043d\\u0441\\u043a\\u0430\\u044f \\u0413\\u0422-\\u0422\\u042d\\u0426\",\"\\u0411\\u0435\\u043b\\u0433\\u043e\\u0440\\u043e\\u0434\\u0441\\u043a\\u0430\\u044f \\u0422\\u042d\\u0426\",\"\\u0413\\u0422 \\u0422\\u042d\\u0426 \\u00ab\\u041b\\u0443\\u0447\\u00bb\",\"\\u0413\\u0422\\u042d\\u0421 \\u00ab\\u0412\\u043d\\u0443\\u043a\\u043e\\u0432\\u043e\\u00bb\",\"\\u0413\\u0422\\u042d\\u0421 \\u00ab\\u041a\\u043e\\u043b\\u043e\\u043c\\u0435\\u043d\\u0441\\u043a\\u043e\\u0435\\u00bb\",\"\\u0413\\u0422\\u042d\\u0421 \\u0424\\u043e\\u0441\\u0410\\u0433\\u0440\\u043e-\\u0427\\u0435\\u0440\\u0435\\u043f\\u043e\\u0432\\u0435\\u0446\",\"\\u0418\\u0441\\u043f\\u044b\\u0442\\u0430\\u0442\\u0435\\u043b\\u044c\\u043d\\u044b\\u0439 \\u0441\\u0442\\u0435\\u043d\\u0434 \\u0418\\u0432\\u0430\\u043d\\u043e\\u0432\\u0441\\u043a\\u043e\\u0439 \\u0413\\u0420\\u042d\\u0421\",\"\\u0422\\u042d\\u0426 \\u0410\\u041e \\u00ab\\u0412\\u043e\\u0441\\u043a\\u0440\\u0435\\u0441\\u0435\\u043d\\u0441\\u043a\\u0438\\u0435 \\u043c\\u0438\\u043d\\u0435\\u0440\\u0430\\u043b\\u044c\\u043d\\u044b\\u0435 \\u0443\\u0434\\u043e\\u0431\\u0440\\u0435\\u043d\\u0438\\u044f\\u00bb\",\"\\u0422\\u042d\\u0426 \\u041d\\u041b\\u041c\\u041a\",\"\\u0422\\u042d\\u0426 \\u041e\\u0410\\u041e \\u00ab\\u041a\\u0422\\u0417\\u00bb\",\"\\u0422\\u042d\\u0426 \\u041f\\u0412\\u0421\",\"\\u0422\\u042d\\u0426 \\u0424\\u043e\\u0441\\u0410\\u0433\\u0440\\u043e-\\u0427\\u0435\\u0440\\u0435\\u043f\\u043e\\u0432\\u0435\\u0446\",\"\\u0422\\u042d\\u0426 \\u042d\\u0412\\u0421-2\",\"\\u0422\\u042d\\u0426-\\u041f\\u0412\\u0421 \\u041f\\u0410\\u041e \\u00ab\\u0422\\u0443\\u043b\\u0430\\u0447\\u0435\\u0440\\u043c\\u0435\\u0442\\u00bb\",\"\\u0423\\u0422\\u042d\\u0426 \\u041d\\u041b\\u041c\\u041a\"]},\"selected\":{\"id\":\"1045\",\"type\":\"Selection\"},\"selection_policy\":{\"id\":\"1044\",\"type\":\"UnionRenderers\"}},\"id\":\"1034\",\"type\":\"ColumnDataSource\"},{\"attributes\":{\"active_drag\":\"auto\",\"active_inspect\":\"auto\",\"active_multi\":null,\"active_scroll\":\"auto\",\"active_tap\":\"auto\",\"tools\":[{\"id\":\"1021\",\"type\":\"PanTool\"},{\"id\":\"1022\",\"type\":\"WheelZoomTool\"},{\"id\":\"1023\",\"type\":\"BoxZoomTool\"},{\"id\":\"1024\",\"type\":\"SaveTool\"},{\"id\":\"1025\",\"type\":\"ResetTool\"},{\"id\":\"1026\",\"type\":\"HelpTool\"}]},\"id\":\"1027\",\"type\":\"Toolbar\"},{\"attributes\":{},\"id\":\"1021\",\"type\":\"PanTool\"},{\"attributes\":{},\"id\":\"1022\",\"type\":\"WheelZoomTool\"},{\"attributes\":{\"overlay\":{\"id\":\"1046\",\"type\":\"BoxAnnotation\"}},\"id\":\"1023\",\"type\":\"BoxZoomTool\"},{\"attributes\":{},\"id\":\"1024\",\"type\":\"SaveTool\"},{\"attributes\":{},\"id\":\"1025\",\"type\":\"ResetTool\"},{\"attributes\":{\"text\":\"\\u0423\\u0441\\u0442\\u0430\\u043d\\u043e\\u0432\\u043b\\u0435\\u043d\\u043d\\u0430\\u044f\\u043c\\u043e\\u0449\\u043d\\u043e\\u0441\\u0442\\u044c, \\u041c\\u0412\\u0442\"},\"id\":\"1002\",\"type\":\"Title\"},{\"attributes\":{},\"id\":\"1026\",\"type\":\"HelpTool\"},{\"attributes\":{\"callback\":null,\"factors\":[\"\\u0410\\u043b\\u0435\\u043a\\u0441\\u0438\\u043d\\u0441\\u043a\\u0430\\u044f \\u0422\\u042d\\u0426\",\"\\u0414\\u044f\\u0433\\u0438\\u043b\\u0435\\u0432\\u0441\\u043a\\u0430\\u044f \\u0422\\u042d\\u0426\",\"\\u0428\\u0430\\u0442\\u0443\\u0440\\u0441\\u043a\\u0430\\u044f \\u0413\\u0420\\u042d\\u0421\",\"\\u0427\\u0435\\u0440\\u0435\\u043f\\u043e\\u0432\\u0435\\u0446\\u043a\\u0430\\u044f \\u0413\\u0420\\u042d\\u0421\",\"\\u0422\\u042d\\u0426-27 \\u041c\\u043e\\u0441\\u044d\\u043d\\u0435\\u0440\\u0433\\u043e\",\"\\u0422\\u042d\\u0426-26\",\"\\u0422\\u042d\\u0426-21\",\"\\u0422\\u042d\\u0426-20\",\"\\u0422\\u042d\\u0426-16\",\"\\u0422\\u042d\\u0426-12\",\"\\u0420\\u044f\\u0437\\u0430\\u043d\\u0441\\u043a\\u0430\\u044f \\u0413\\u0420\\u042d\\u0421\",\"\\u041d\\u043e\\u0432\\u043e\\u043c\\u043e\\u0441\\u043a\\u043e\\u0432\\u0441\\u043a\\u0430\\u044f \\u0413\\u0420\\u042d\\u0421\",\"\\u0415\\u043b\\u0435\\u0446\\u043a\\u0430\\u044f \\u0422\\u042d\\u0426\",\"\\u041d\\u043e\\u0432\\u043e-\\u0420\\u044f\\u0437\\u0430\\u043d\\u0441\\u043a\\u0430\\u044f \\u0422\\u042d\\u0426\",\"\\u0412\\u043e\\u0440\\u043e\\u043d\\u0435\\u0436\\u0441\\u043a\\u0430\\u044f \\u0422\\u042d\\u0426-1\",\"\\u0412\\u043b\\u0430\\u0434\\u0438\\u043c\\u0438\\u0440\\u0441\\u043a\\u0430\\u044f \\u0422\\u042d\\u0426-2\",\"\\u0412\\u043e\\u043b\\u043e\\u0433\\u043e\\u0434\\u0441\\u043a\\u0430\\u044f \\u0422\\u042d\\u0426\",\"\\u0412\\u043e\\u0440\\u043e\\u043d\\u0435\\u0436\\u0441\\u043a\\u0430\\u044f \\u0422\\u042d\\u0426-2\",\"\\u0414\\u043e\\u0440\\u043e\\u0433\\u043e\\u0431\\u0443\\u0436\\u0441\\u043a\\u0430\\u044f \\u0422\\u042d\\u0426\",\"\\u0413\\u0420\\u042d\\u0421-3 \\u0438\\u043c. \\u0420.\\u042d. \\u041a\\u043b\\u0430\\u0441\\u0441\\u043e\\u043d\\u0430\",\"\\u041a\\u0430\\u043b\\u0443\\u0436\\u0441\\u043a\\u0430\\u044f \\u0422\\u042d\\u0426\",\"\\u041b\\u0438\\u0432\\u0435\\u043d\\u0441\\u043a\\u0430\\u044f \\u0422\\u042d\\u0426\",\"\\u0422\\u042d\\u0426-11\",\"\\u0422\\u042d\\u0426-17 \\u041c\\u043e\\u0441\\u044d\\u043d\\u0435\\u0440\\u0433\\u043e\",\"\\u0422\\u042d\\u0426-22 \\u041c\\u043e\\u0441\\u044d\\u043d\\u0435\\u0440\\u0433\\u043e\",\"\\u0422\\u042d\\u0426-23\",\"\\u0422\\u042d\\u0426-25\",\"\\u0422\\u0430\\u043c\\u0431\\u043e\\u0432\\u0441\\u043a\\u0430\\u044f \\u0422\\u042d\\u0426\",\"\\u0422\\u042d\\u0426-8\",\"\\u0421\\u043c\\u043e\\u043b\\u0435\\u043d\\u0441\\u043a\\u0430\\u044f \\u0422\\u042d\\u0426-2\",\"\\u0422\\u0432\\u0435\\u0440\\u0441\\u043a\\u0430\\u044f \\u0422\\u042d\\u0426-3\",\"\\u0422\\u0432\\u0435\\u0440\\u0441\\u043a\\u0430\\u044f \\u0422\\u042d\\u0426-4\",\"\\u0427\\u0435\\u0440\\u0435\\u043f\\u0435\\u0442\\u0441\\u043a\\u0430\\u044f \\u0413\\u0420\\u042d\\u0421\",\"\\u0429\\u0435\\u043a\\u0438\\u043d\\u0441\\u043a\\u0430\\u044f \\u0413\\u0420\\u042d\\u0421\",\"\\u042f\\u0440\\u043e\\u0441\\u043b\\u0430\\u0432\\u0441\\u043a\\u0430\\u044f \\u0422\\u042d\\u0426-1\",\"\\u042f\\u0440\\u043e\\u0441\\u043b\\u0430\\u0432\\u0441\\u043a\\u0430\\u044f \\u0422\\u042d\\u0426-2\",\"\\u0413\\u0443\\u0431\\u043a\\u0438\\u043d\\u0441\\u043a\\u0430\\u044f \\u0422\\u042d\\u0426\",\"\\u042f\\u0440\\u043e\\u0441\\u043b\\u0430\\u0432\\u0441\\u043a\\u0430\\u044f \\u0422\\u042d\\u0426-3\",\"\\u0421\\u043c\\u043e\\u043b\\u0435\\u043d\\u0441\\u043a\\u0430\\u044f \\u0413\\u0420\\u042d\\u0421\",\"\\u041a\\u043e\\u0441\\u0442\\u0440\\u043e\\u043c\\u0441\\u043a\\u0430\\u044f \\u0422\\u042d\\u0426-1\",\"\\u041f\\u0435\\u0440\\u0432\\u043e\\u043c\\u0430\\u0439\\u0441\\u043a\\u0430\\u044f \\u0422\\u042d\\u0426\",\"\\u0415\\u0444\\u0440\\u0435\\u043c\\u043e\\u0432\\u0441\\u043a\\u0430\\u044f \\u0422\\u042d\\u0426\",\"\\u0418\\u0432\\u0430\\u043d\\u043e\\u0432\\u0441\\u043a\\u0430\\u044f \\u0422\\u042d\\u0426-2\",\"\\u041e\\u0440\\u043b\\u043e\\u0432\\u0441\\u043a\\u0430\\u044f \\u0422\\u042d\\u0426\",\"\\u0418\\u0432\\u0430\\u043d\\u043e\\u0432\\u0441\\u043a\\u0430\\u044f \\u0422\\u042d\\u0426-3\",\"\\u0413\\u042d\\u0421-1\",\"\\u041a\\u0430\\u0448\\u0438\\u0440\\u0441\\u043a\\u0430\\u044f \\u0413\\u0420\\u042d\\u0421\",\"\\u041b\\u0438\\u043f\\u0435\\u0446\\u043a\\u0430\\u044f \\u0422\\u042d\\u0426-2\",\"\\u041a\\u0443\\u0440\\u0441\\u043a\\u0430\\u044f \\u0422\\u042d\\u0426-1\",\"\\u041a\\u043e\\u043d\\u0430\\u043a\\u043e\\u0432\\u0441\\u043a\\u0430\\u044f \\u0413\\u0420\\u042d\\u0421\",\"\\u041a\\u043e\\u0441\\u0442\\u0440\\u043e\\u043c\\u0441\\u043a\\u0430\\u044f \\u0413\\u0420\\u042d\\u0421\",\"\\u041a\\u043e\\u0441\\u0442\\u0440\\u043e\\u043c\\u0441\\u043a\\u0430\\u044f \\u0422\\u042d\\u0426-2\",\"\\u0418\\u0432\\u0430\\u043d\\u043e\\u0432\\u0441\\u043a\\u0438\\u0435 \\u041f\\u0413\\u0423\",\"\\u0425\\u0443\\u0430\\u0434\\u044f\\u043d\\u044c-\\u0422\\u0435\\u043d\\u0438\\u043d\\u0441\\u043a\\u0430\\u044f \\u0422\\u042d\\u0426\",\"\\u041a\\u0440\\u0430\\u0441\\u0430\\u0432\\u0438\\u043d\\u0441\\u043a\\u0430\\u044f \\u0413\\u0422 \\u0422\\u042d\\u0426\",\"\\u0413\\u0422\\u042d\\u0421 \\u00ab\\u0422\\u0435\\u0440\\u0451\\u0448\\u043a\\u043e\\u0432\\u043e\\u00bb\",\"\\u041a\\u0443\\u0440\\u0441\\u043a\\u0430\\u044f \\u0422\\u042d\\u0426 \\u0421\\u0417\\u0420\",\"\\u0422\\u042d\\u0421 \\u00ab\\u041c\\u0435\\u0436\\u0434\\u0443\\u043d\\u0430\\u0440\\u043e\\u0434\\u043d\\u0430\\u044f\\u00bb\",\"\\u0422\\u042d\\u0426-9\",\"\\u041c\\u0438\\u0447\\u0443\\u0440\\u0438\\u043d\\u0441\\u043a\\u0430\\u044f \\u0413\\u0422-\\u0422\\u042d\\u0426\",\"\\u0411\\u0435\\u043b\\u0433\\u043e\\u0440\\u043e\\u0434\\u0441\\u043a\\u0430\\u044f \\u0422\\u042d\\u0426\",\"\\u0413\\u0422 \\u0422\\u042d\\u0426 \\u00ab\\u041b\\u0443\\u0447\\u00bb\",\"\\u0413\\u0422\\u042d\\u0421 \\u00ab\\u0412\\u043d\\u0443\\u043a\\u043e\\u0432\\u043e\\u00bb\",\"\\u0413\\u0422\\u042d\\u0421 \\u00ab\\u041a\\u043e\\u043b\\u043e\\u043c\\u0435\\u043d\\u0441\\u043a\\u043e\\u0435\\u00bb\",\"\\u0413\\u0422\\u042d\\u0421 \\u0424\\u043e\\u0441\\u0410\\u0433\\u0440\\u043e-\\u0427\\u0435\\u0440\\u0435\\u043f\\u043e\\u0432\\u0435\\u0446\",\"\\u0418\\u0441\\u043f\\u044b\\u0442\\u0430\\u0442\\u0435\\u043b\\u044c\\u043d\\u044b\\u0439 \\u0441\\u0442\\u0435\\u043d\\u0434 \\u0418\\u0432\\u0430\\u043d\\u043e\\u0432\\u0441\\u043a\\u043e\\u0439 \\u0413\\u0420\\u042d\\u0421\",\"\\u0422\\u042d\\u0426 \\u0410\\u041e \\u00ab\\u0412\\u043e\\u0441\\u043a\\u0440\\u0435\\u0441\\u0435\\u043d\\u0441\\u043a\\u0438\\u0435 \\u043c\\u0438\\u043d\\u0435\\u0440\\u0430\\u043b\\u044c\\u043d\\u044b\\u0435 \\u0443\\u0434\\u043e\\u0431\\u0440\\u0435\\u043d\\u0438\\u044f\\u00bb\",\"\\u0422\\u042d\\u0426 \\u041d\\u041b\\u041c\\u041a\",\"\\u0422\\u042d\\u0426 \\u041e\\u0410\\u041e \\u00ab\\u041a\\u0422\\u0417\\u00bb\",\"\\u0422\\u042d\\u0426 \\u041f\\u0412\\u0421\",\"\\u0422\\u042d\\u0426 \\u0424\\u043e\\u0441\\u0410\\u0433\\u0440\\u043e-\\u0427\\u0435\\u0440\\u0435\\u043f\\u043e\\u0432\\u0435\\u0446\",\"\\u0422\\u042d\\u0426 \\u042d\\u0412\\u0421-2\",\"\\u0422\\u042d\\u0426-\\u041f\\u0412\\u0421 \\u041f\\u0410\\u041e \\u00ab\\u0422\\u0443\\u043b\\u0430\\u0447\\u0435\\u0440\\u043c\\u0435\\u0442\\u00bb\",\"\\u0423\\u0422\\u042d\\u0426 \\u041d\\u041b\\u041c\\u041a\"]},\"id\":\"1004\",\"type\":\"FactorRange\"},{\"attributes\":{\"fill_alpha\":{\"value\":0.1},\"fill_color\":{\"value\":\"#1f77b4\"},\"line_alpha\":{\"value\":0.1},\"line_color\":{\"value\":\"#1f77b4\"},\"top\":{\"field\":\"top\"},\"width\":{\"value\":0.5},\"x\":{\"field\":\"x\"}},\"id\":\"1036\",\"type\":\"VBar\"}],\"root_ids\":[\"1001\"]},\"title\":\"Bokeh Application\",\"version\":\"1.4.0\"}};\n",
              "  var render_items = [{\"docid\":\"1e8c69ae-7690-4d07-8e97-37eeb321f552\",\"roots\":{\"1001\":\"fd14d99c-bb92-4da6-942b-863e02531ae5\"}}];\n",
              "  root.Bokeh.embed.embed_items_notebook(docs_json, render_items);\n",
              "\n",
              "  }\n",
              "  if (root.Bokeh !== undefined) {\n",
              "    embed_document(root);\n",
              "  } else {\n",
              "    var attempts = 0;\n",
              "    var timer = setInterval(function(root) {\n",
              "      if (root.Bokeh !== undefined) {\n",
              "        clearInterval(timer);\n",
              "        embed_document(root);\n",
              "      } else {\n",
              "        attempts++;\n",
              "        if (attempts > 100) {\n",
              "          clearInterval(timer);\n",
              "          console.log(\"Bokeh: ERROR: Unable to run BokehJS code because BokehJS library is missing\");\n",
              "        }\n",
              "      }\n",
              "    }, 10, root)\n",
              "  }\n",
              "})(window);"
            ],
            "application/vnd.bokehjs_exec.v0+json": ""
          },
          "metadata": {
            "tags": [],
            "application/vnd.bokehjs_exec.v0+json": {
              "id": "1001"
            }
          }
        }
      ]
    }
  ]
}